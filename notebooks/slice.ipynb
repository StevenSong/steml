{
 "cells": [
  {
   "cell_type": "code",
   "execution_count": 7,
   "id": "d113b2e2-b28d-430b-9ec0-78f4aa1bc333",
   "metadata": {},
   "outputs": [],
   "source": [
    "import os\n",
    "from PIL import Image\n",
    "from steml.recipes import slice"
   ]
  },
  {
   "cell_type": "code",
   "execution_count": 8,
   "id": "bc3499f7-56bb-4a48-936d-9821e6a9ec27",
   "metadata": {},
   "outputs": [],
   "source": [
    "workdir = '/mnt/data5'\n",
    "output = f'{workdir}/output/tiles/gi-cancer'"
   ]
  },
  {
   "cell_type": "code",
   "execution_count": 9,
   "id": "68d9d87c-75d8-45fa-b881-b7d35adefba4",
   "metadata": {},
   "outputs": [],
   "source": [
    "size = 200"
   ]
  },
  {
   "cell_type": "code",
   "execution_count": 4,
   "id": "91b21931-5937-492f-b9dd-d0c4907c5346",
   "metadata": {},
   "outputs": [
    {
     "name": "stdout",
     "output_type": "stream",
     "text": [
      "Original tile size: 93.82030892772592px\n",
      "Resized tile size: 200px\n"
     ]
    },
    {
     "name": "stderr",
     "output_type": "stream",
     "text": [
      "100%|███████████████████████████| 2660/2660 [00:49<00:00, 53.82it/s]\n"
     ]
    }
   ],
   "source": [
    "slice(\n",
    "    image=f'{workdir}/data/gi-cancer/brightfield.jpg',\n",
    "    scaling_factors=f'{workdir}/output/count/gi-cancer/outs/spatial/scalefactors_json.json',\n",
    "    tissue_positions=f'{workdir}/output/count/gi-cancer/outs/spatial/tissue_positions_list.csv',\n",
    "    size=size,\n",
    "    output=output,\n",
    ")"
   ]
  },
  {
   "cell_type": "code",
   "execution_count": 5,
   "id": "e661ef2b-c262-46b8-b9ec-40afb5ad257a",
   "metadata": {},
   "outputs": [],
   "source": [
    "# f = os.listdir(output)[0]\n",
    "# f = os.path.join(output, f)\n",
    "# with Image.open(f) as im:\n",
    "#     im.show()"
   ]
  },
  {
   "cell_type": "code",
   "execution_count": 10,
   "id": "ffc2bbcf-9b02-4eaa-af21-0647dedbd228",
   "metadata": {},
   "outputs": [
    {
     "name": "stdout",
     "output_type": "stream",
     "text": [
      "Original tile size: 85.79727461620155px\n",
      "Resized tile size: 200px\n"
     ]
    },
    {
     "name": "stderr",
     "output_type": "stream",
     "text": [
      "100%|█████████████████████████████| 551/551 [00:10<00:00, 50.87it/s]\n"
     ]
    },
    {
     "name": "stdout",
     "output_type": "stream",
     "text": [
      "Original tile size: 85.85330426083792px\n",
      "Resized tile size: 200px\n"
     ]
    },
    {
     "name": "stderr",
     "output_type": "stream",
     "text": [
      "100%|█████████████████████████████| 791/791 [00:15<00:00, 51.72it/s]\n"
     ]
    },
    {
     "name": "stdout",
     "output_type": "stream",
     "text": [
      "Original tile size: 85.8054819703968px\n",
      "Resized tile size: 200px\n"
     ]
    },
    {
     "name": "stderr",
     "output_type": "stream",
     "text": [
      "100%|█████████████████████████████| 757/757 [00:15<00:00, 50.40it/s]\n"
     ]
    },
    {
     "name": "stdout",
     "output_type": "stream",
     "text": [
      "Original tile size: 85.85318840704258px\n",
      "Resized tile size: 200px\n"
     ]
    },
    {
     "name": "stderr",
     "output_type": "stream",
     "text": [
      "100%|█████████████████████████████| 804/804 [00:15<00:00, 50.56it/s]\n"
     ]
    },
    {
     "name": "stdout",
     "output_type": "stream",
     "text": [
      "Original tile size: 85.82064640795183px\n",
      "Resized tile size: 200px\n"
     ]
    },
    {
     "name": "stderr",
     "output_type": "stream",
     "text": [
      "100%|█████████████████████████████| 710/710 [00:13<00:00, 53.37it/s]\n"
     ]
    },
    {
     "name": "stdout",
     "output_type": "stream",
     "text": [
      "Original tile size: 85.87255073498994px\n",
      "Resized tile size: 200px\n"
     ]
    },
    {
     "name": "stderr",
     "output_type": "stream",
     "text": [
      "100%|█████████████████████████████| 555/555 [00:10<00:00, 54.08it/s]\n"
     ]
    },
    {
     "name": "stdout",
     "output_type": "stream",
     "text": [
      "Original tile size: 85.82305586868716px\n",
      "Resized tile size: 200px\n"
     ]
    },
    {
     "name": "stderr",
     "output_type": "stream",
     "text": [
      "100%|███████████████████████████| 2891/2891 [00:52<00:00, 54.59it/s]\n"
     ]
    },
    {
     "name": "stdout",
     "output_type": "stream",
     "text": [
      "Original tile size: 85.90142284504918px\n",
      "Resized tile size: 200px\n"
     ]
    },
    {
     "name": "stderr",
     "output_type": "stream",
     "text": [
      "100%|███████████████████████████| 2180/2180 [00:40<00:00, 53.18it/s]\n"
     ]
    }
   ],
   "source": [
    "for slide in ['slide1', 'slide2']:\n",
    "    for area in ['A1', 'B1', 'C1', 'D1']:\n",
    "        output = f'{workdir}/output/tiles/gi-infection/{slide}/{area}'\n",
    "        slice(\n",
    "            image=f'{workdir}/data/gi-infection/{slide}/{area}/{area}.tif',\n",
    "            scaling_factors=f'{workdir}/output/count/gi-infection/{slide}/{area}/outs/spatial/scalefactors_json.json',\n",
    "            tissue_positions=f'{workdir}/output/count/gi-infection/{slide}/{area}/outs/spatial/tissue_positions_list.csv',\n",
    "            size=size,\n",
    "            output=output,\n",
    "        )"
   ]
  },
  {
   "cell_type": "code",
   "execution_count": null,
   "id": "56619f66-d5bd-4b3e-8838-ca0d7cc7ebf0",
   "metadata": {},
   "outputs": [],
   "source": []
  }
 ],
 "metadata": {
  "kernelspec": {
   "display_name": "Python 3 (ipykernel)",
   "language": "python",
   "name": "python3"
  },
  "language_info": {
   "codemirror_mode": {
    "name": "ipython",
    "version": 3
   },
   "file_extension": ".py",
   "mimetype": "text/x-python",
   "name": "python",
   "nbconvert_exporter": "python",
   "pygments_lexer": "ipython3",
   "version": "3.8.13"
  }
 },
 "nbformat": 4,
 "nbformat_minor": 5
}
