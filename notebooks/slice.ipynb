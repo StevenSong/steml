{
 "cells": [
  {
   "cell_type": "code",
   "execution_count": null,
   "id": "d113b2e2-b28d-430b-9ec0-78f4aa1bc333",
   "metadata": {},
   "outputs": [],
   "source": [
    "import os\n",
    "from PIL import Image\n",
    "from steml.recipes import slice"
   ]
  },
  {
   "cell_type": "code",
   "execution_count": null,
   "id": "bc3499f7-56bb-4a48-936d-9821e6a9ec27",
   "metadata": {},
   "outputs": [],
   "source": [
    "workdir = '/mnt/data5'\n",
    "output = f'{workdir}/output/tiles/gi-cancer'"
   ]
  },
  {
   "cell_type": "code",
   "execution_count": null,
   "id": "91b21931-5937-492f-b9dd-d0c4907c5346",
   "metadata": {},
   "outputs": [],
   "source": [
    "slice(\n",
    "    image=f'{workdir}/data/gi-cancer/brightfield.jpg',\n",
    "    scaling_factors=f'{workdir}/output/count/gi-cancer/outs/spatial/scalefactors_json.json',\n",
    "    tissue_positions=f'{workdir}/output/count/gi-cancer/outs/spatial/tissue_positions_list.csv',\n",
    "    output=output,\n",
    ")"
   ]
  },
  {
   "cell_type": "code",
   "execution_count": null,
   "id": "e661ef2b-c262-46b8-b9ec-40afb5ad257a",
   "metadata": {},
   "outputs": [],
   "source": [
    "f = os.listdir(output)[0]\n",
    "f = os.path.join(output, f)\n",
    "with Image.open(f) as im:\n",
    "    im.show()"
   ]
  }
 ],
 "metadata": {
  "kernelspec": {
   "display_name": "Python 3 (ipykernel)",
   "language": "python",
   "name": "python3"
  },
  "language_info": {
   "codemirror_mode": {
    "name": "ipython",
    "version": 3
   },
   "file_extension": ".py",
   "mimetype": "text/x-python",
   "name": "python",
   "nbconvert_exporter": "python",
   "pygments_lexer": "ipython3",
   "version": "3.8.13"
  }
 },
 "nbformat": 4,
 "nbformat_minor": 5
}
