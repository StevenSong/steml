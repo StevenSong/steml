{
 "cells": [
  {
   "cell_type": "code",
   "execution_count": null,
   "id": "d113b2e2-b28d-430b-9ec0-78f4aa1bc333",
   "metadata": {},
   "outputs": [],
   "source": [
    "from steml.recipes import slice"
   ]
  },
  {
   "cell_type": "code",
   "execution_count": null,
   "id": "bc3499f7-56bb-4a48-936d-9821e6a9ec27",
   "metadata": {},
   "outputs": [],
   "source": [
    "workdir = '/mnt/data5'"
   ]
  },
  {
   "cell_type": "code",
   "execution_count": null,
   "id": "91b21931-5937-492f-b9dd-d0c4907c5346",
   "metadata": {},
   "outputs": [],
   "source": [
    "slice(\n",
    "    image=f'{workdir}/data/colorectal-cancer/brightfield.jpg',\n",
    "    scaling_factors=f'{workdir}/output/colorectal-cancer-count/outs/spatial/scalefactors_json.json',\n",
    "    tissue_positions=f'{workdir}/output/colorectal-cancer-count/outs/spatial/tissue_positions_list.csv',\n",
    "    output=f'{workdir}/output/colorectal-cancer-tiles',\n",
    ")"
   ]
  },
  {
   "cell_type": "code",
   "execution_count": null,
   "id": "c832cde6-2683-4ded-916d-63d0074df14e",
   "metadata": {},
   "outputs": [],
   "source": [
    "from PIL import Image"
   ]
  },
  {
   "cell_type": "code",
   "execution_count": null,
   "id": "e661ef2b-c262-46b8-b9ec-40afb5ad257a",
   "metadata": {},
   "outputs": [],
   "source": [
    "with Image.open(f'{workdir}/output/colorectal-cancer-tiles/0_30.png') as im:\n",
    "    im.show()"
   ]
  },
  {
   "cell_type": "code",
   "execution_count": null,
   "id": "4b072518-25b5-4206-b1ce-bc702dbf16b6",
   "metadata": {},
   "outputs": [],
   "source": []
  }
 ],
 "metadata": {
  "kernelspec": {
   "display_name": "Python 3 (ipykernel)",
   "language": "python",
   "name": "python3"
  },
  "language_info": {
   "codemirror_mode": {
    "name": "ipython",
    "version": 3
   },
   "file_extension": ".py",
   "mimetype": "text/x-python",
   "name": "python",
   "nbconvert_exporter": "python",
   "pygments_lexer": "ipython3",
   "version": "3.8.13"
  }
 },
 "nbformat": 4,
 "nbformat_minor": 5
}
