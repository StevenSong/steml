{
 "cells": [
  {
   "cell_type": "code",
   "execution_count": 1,
   "id": "de1abd2f-e832-40a0-b23d-6bd1421dc343",
   "metadata": {},
   "outputs": [],
   "source": [
    "import json\n",
    "import numpy as np\n",
    "import pandas as pd\n",
    "from matplotlib import cm\n",
    "import matplotlib.pyplot as plt\n",
    "from matplotlib.patches import Circle, Rectangle\n",
    "\n",
    "from ipywidgets import interact, fixed\n",
    "import ipywidgets as widgets"
   ]
  },
  {
   "cell_type": "code",
   "execution_count": 2,
   "id": "4b0a46bc-4f47-4107-827d-46ecd26f2091",
   "metadata": {},
   "outputs": [],
   "source": [
    "eps=10\n",
    "colors = cm.tab10(range(10))\n",
    "workdir = '/mnt/data5'"
   ]
  },
  {
   "cell_type": "code",
   "execution_count": 3,
   "id": "85f787f0-201e-4ebc-9450-ba4fa7df6d80",
   "metadata": {},
   "outputs": [],
   "source": [
    "df = pd.read_csv(f'{workdir}/output/count/gi-infection/C.diff/C1/outs/spatial/tissue_positions_list.csv', header=None, names=['barcode', 'inside', 'row', 'col', 'y', 'x'])\n",
    "grid = df[(df['row'].isin([0,1,2])) & (df['col'].isin([1,2,3,4,5]))].sort_values(['row', 'col'])\n",
    "grid['y'] -= grid.loc[3, 'y']\n",
    "grid['x'] -= grid.loc[3, 'x']\n",
    "grid = grid[['x', 'y']].to_numpy()"
   ]
  },
  {
   "cell_type": "code",
   "execution_count": 4,
   "id": "c3514602-bfc1-4159-8619-206dc6880b0a",
   "metadata": {},
   "outputs": [],
   "source": [
    "with open(f'{workdir}/output/count/gi-infection/C.diff/C1/outs/spatial/scalefactors_json.json') as f:\n",
    "    scales = json.load(f)\n",
    "radius = scales['spot_diameter_fullres'] / 2"
   ]
  },
  {
   "cell_type": "code",
   "execution_count": 5,
   "id": "4d64d5b3-b989-4453-8600-f3a419925a82",
   "metadata": {},
   "outputs": [],
   "source": [
    "def draw_spot_grid(grid, spot_radius, theta, tile_size):\n",
    "    rot_mat = np.array([\n",
    "        [np.cos(theta), -np.sin(theta)],\n",
    "        [np.sin(theta), np.cos(theta)],\n",
    "    ])\n",
    "    lims = [\n",
    "        min(grid[:, 0].min()-radius-eps, grid[:, 1].min()-radius-eps),\n",
    "        max(grid[:, 0].max()+radius+eps, grid[:, 1].max()+radius+eps),\n",
    "    ]\n",
    "    grid = grid @ rot_mat.T\n",
    "    fig, ax = plt.subplots(figsize=(5,5))\n",
    "    ax.set(\n",
    "        xlim=lims,\n",
    "        ylim=lims,\n",
    "    )\n",
    "    for (x, y), color in zip(grid, colors):\n",
    "        circle = Circle(xy=(x, y), radius=int(spot_radius), color=color)\n",
    "        ax.add_patch(circle)\n",
    "    for (x, y), color in zip(grid, colors):\n",
    "        tile = Rectangle(xy=(x-tile_size/2, y-tile_size/2), width=tile_size, height=tile_size, fill=None, color=color, lw=5)\n",
    "        ax.add_patch(tile)\n",
    "    plt.show()"
   ]
  },
  {
   "cell_type": "code",
   "execution_count": 6,
   "id": "73fe56de-258d-4336-bc0a-42958470f5da",
   "metadata": {},
   "outputs": [
    {
     "data": {
      "application/vnd.jupyter.widget-view+json": {
       "model_id": "37371e011f6b45979bebd8a0ddc3f2b3",
       "version_major": 2,
       "version_minor": 0
      },
      "text/plain": [
       "interactive(children=(FloatSlider(value=42.91152793434358, description='spot_radius', max=128.73458380303074, …"
      ]
     },
     "metadata": {},
     "output_type": "display_data"
    },
    {
     "data": {
      "text/plain": [
       "<function __main__.draw_spot_grid(grid, spot_radius, theta, tile_size)>"
      ]
     },
     "execution_count": 6,
     "metadata": {},
     "output_type": "execute_result"
    }
   ],
   "source": [
    "interact(\n",
    "    draw_spot_grid,\n",
    "    grid=fixed(grid),\n",
    "    spot_radius=radius,\n",
    "    theta=widgets.FloatSlider(min=0.0, max=np.pi*2, step=.01),\n",
    "    tile_size=widgets.IntSlider(min=round(radius), max=round(radius*3), value=round(radius*2), step=1),\n",
    ")"
   ]
  },
  {
   "cell_type": "code",
   "execution_count": null,
   "id": "f3da0096-e4b9-475a-8d93-c6052147fd4a",
   "metadata": {},
   "outputs": [],
   "source": []
  }
 ],
 "metadata": {
  "kernelspec": {
   "display_name": "Python 3 (ipykernel)",
   "language": "python",
   "name": "python3"
  },
  "language_info": {
   "codemirror_mode": {
    "name": "ipython",
    "version": 3
   },
   "file_extension": ".py",
   "mimetype": "text/x-python",
   "name": "python",
   "nbconvert_exporter": "python",
   "pygments_lexer": "ipython3",
   "version": "3.8.13"
  }
 },
 "nbformat": 4,
 "nbformat_minor": 5
}
