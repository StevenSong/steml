{
 "cells": [
  {
   "cell_type": "code",
   "execution_count": 1,
   "id": "de1abd2f-e832-40a0-b23d-6bd1421dc343",
   "metadata": {},
   "outputs": [],
   "source": [
    "import json\n",
    "import numpy as np\n",
    "import pandas as pd\n",
    "from matplotlib import cm\n",
    "import matplotlib.pyplot as plt\n",
    "from matplotlib.patches import Circle, Rectangle\n",
    "\n",
    "from ipywidgets import interact, fixed\n",
    "import ipywidgets as widgets"
   ]
  },
  {
   "cell_type": "code",
   "execution_count": 2,
   "id": "4b0a46bc-4f47-4107-827d-46ecd26f2091",
   "metadata": {},
   "outputs": [],
   "source": [
    "eps=10\n",
    "colors = cm.tab10(range(10))\n",
    "workdir = '/mnt/data5'"
   ]
  },
  {
   "cell_type": "code",
   "execution_count": 3,
   "id": "85f787f0-201e-4ebc-9450-ba4fa7df6d80",
   "metadata": {},
   "outputs": [],
   "source": [
    "df = pd.read_csv(f'{workdir}/output/count/gi-infection/C.diff/C1/outs/spatial/tissue_positions_list.csv', header=None, names=['barcode', 'inside', 'row', 'col', 'y', 'x'])\n",
    "grid = df[(df['row'].isin([0,1,2])) & (df['col'].isin([1,2,3,4,5]))].sort_values(['row', 'col'])\n",
    "grid['y'] -= grid.loc[3, 'y']\n",
    "grid['x'] -= grid.loc[3, 'x']\n",
    "grid = grid[['x', 'y']].to_numpy()"
   ]
  },
  {
   "cell_type": "code",
   "execution_count": 4,
   "id": "c3514602-bfc1-4159-8619-206dc6880b0a",
   "metadata": {},
   "outputs": [],
   "source": [
    "with open(f'{workdir}/output/count/gi-infection/C.diff/C1/outs/spatial/scalefactors_json.json') as f:\n",
    "    scales = json.load(f)\n",
    "radius = scales['spot_diameter_fullres'] / 2"
   ]
  },
  {
   "cell_type": "code",
   "execution_count": 5,
   "id": "4d64d5b3-b989-4453-8600-f3a419925a82",
   "metadata": {},
   "outputs": [],
   "source": [
    "def draw_spot_grid(grid, spot_radius, theta, tile_size):\n",
    "    rot_mat = np.array([\n",
    "        [np.cos(theta), -np.sin(theta)],\n",
    "        [np.sin(theta), np.cos(theta)],\n",
    "    ])\n",
    "    lims = [\n",
    "        min(grid[:, 0].min()-radius-eps, grid[:, 1].min()-radius-eps),\n",
    "        max(grid[:, 0].max()+radius+eps, grid[:, 1].max()+radius+eps),\n",
    "    ]\n",
    "    grid = grid @ rot_mat.T\n",
    "    fig, ax = plt.subplots(figsize=(5,5))\n",
    "    ax.set(\n",
    "        xlim=lims,\n",
    "        ylim=lims,\n",
    "    )\n",
    "    for (x, y), color in zip(grid, colors):\n",
    "        circle = Circle(xy=(x, y), radius=int(spot_radius), color=color)\n",
    "        ax.add_patch(circle)\n",
    "    for (x, y), color in zip(grid, colors):\n",
    "        tile = Rectangle(xy=(x-tile_size/2, y-tile_size/2), width=tile_size, height=tile_size, fill=None, color=color, lw=5)\n",
    "        ax.add_patch(tile)\n",
    "    plt.show()"
   ]
  },
  {
   "cell_type": "code",
   "execution_count": 9,
   "id": "73fe56de-258d-4336-bc0a-42958470f5da",
   "metadata": {},
   "outputs": [
    {
     "data": {
      "application/vnd.jupyter.widget-view+json": {
       "model_id": "1dc702f180f34ec4bff6bd38fdf58a2a",
       "version_major": 2,
       "version_minor": 0
      },
      "text/plain": [
       "interactive(children=(FloatSlider(value=42.91152793434358, description='spot_radius', max=128.73458380303074, …"
      ]
     },
     "metadata": {},
     "output_type": "display_data"
    },
    {
     "data": {
      "text/plain": [
       "<function __main__.draw_spot_grid(grid, spot_radius, theta, tile_size)>"
      ]
     },
     "execution_count": 9,
     "metadata": {},
     "output_type": "execute_result"
    }
   ],
   "source": [
    "interact(\n",
    "    draw_spot_grid,\n",
    "    grid=fixed(grid),\n",
    "    spot_radius=radius,\n",
    "    theta=widgets.FloatSlider(min=0.0, max=np.pi*2, step=.01),\n",
    "    tile_size=widgets.IntSlider(min=round(radius), max=round(radius*3), value=round(radius*2), step=1),\n",
    ")"
   ]
  },
  {
   "cell_type": "code",
   "execution_count": 10,
   "id": "13b17258-1acd-4043-acb9-04741639ca7c",
   "metadata": {},
   "outputs": [],
   "source": [
    "import pandas as pd"
   ]
  },
  {
   "cell_type": "code",
   "execution_count": 12,
   "id": "dfafa0b6-534f-4e95-a6e5-05d535d97305",
   "metadata": {},
   "outputs": [],
   "source": [
    "df = pd.read_csv('/mnt/data5/output/count/gi-cancer/outs/filtered_feature_bc_matrix/features.tsv.gz')"
   ]
  },
  {
   "cell_type": "code",
   "execution_count": 13,
   "id": "1bdb366b-9fa3-441d-ac1c-d3edabe94048",
   "metadata": {},
   "outputs": [
    {
     "data": {
      "text/html": [
       "<div>\n",
       "<style scoped>\n",
       "    .dataframe tbody tr th:only-of-type {\n",
       "        vertical-align: middle;\n",
       "    }\n",
       "\n",
       "    .dataframe tbody tr th {\n",
       "        vertical-align: top;\n",
       "    }\n",
       "\n",
       "    .dataframe thead th {\n",
       "        text-align: right;\n",
       "    }\n",
       "</style>\n",
       "<table border=\"1\" class=\"dataframe\">\n",
       "  <thead>\n",
       "    <tr style=\"text-align: right;\">\n",
       "      <th></th>\n",
       "      <th>ENSG00000187634\\tSAMD11\\tGene Expression</th>\n",
       "    </tr>\n",
       "  </thead>\n",
       "  <tbody>\n",
       "    <tr>\n",
       "      <th>0</th>\n",
       "      <td>ENSG00000188976\\tNOC2L\\tGene Expression</td>\n",
       "    </tr>\n",
       "    <tr>\n",
       "      <th>1</th>\n",
       "      <td>ENSG00000187961\\tKLHL17\\tGene Expression</td>\n",
       "    </tr>\n",
       "    <tr>\n",
       "      <th>2</th>\n",
       "      <td>ENSG00000187583\\tPLEKHN1\\tGene Expression</td>\n",
       "    </tr>\n",
       "    <tr>\n",
       "      <th>3</th>\n",
       "      <td>ENSG00000187642\\tPERM1\\tGene Expression</td>\n",
       "    </tr>\n",
       "    <tr>\n",
       "      <th>4</th>\n",
       "      <td>ENSG00000188290\\tHES4\\tGene Expression</td>\n",
       "    </tr>\n",
       "    <tr>\n",
       "      <th>...</th>\n",
       "      <td>...</td>\n",
       "    </tr>\n",
       "    <tr>\n",
       "      <th>17937</th>\n",
       "      <td>ENSG00000258992\\tTSPY1\\tGene Expression</td>\n",
       "    </tr>\n",
       "    <tr>\n",
       "      <th>17938</th>\n",
       "      <td>ENSG00000114374\\tUSP9Y\\tGene Expression</td>\n",
       "    </tr>\n",
       "    <tr>\n",
       "      <th>17939</th>\n",
       "      <td>ENSG00000067048\\tDDX3Y\\tGene Expression</td>\n",
       "    </tr>\n",
       "    <tr>\n",
       "      <th>17940</th>\n",
       "      <td>ENSG00000154620\\tTMSB4Y\\tGene Expression</td>\n",
       "    </tr>\n",
       "    <tr>\n",
       "      <th>17941</th>\n",
       "      <td>ENSG00000012817\\tKDM5D\\tGene Expression</td>\n",
       "    </tr>\n",
       "  </tbody>\n",
       "</table>\n",
       "<p>17942 rows × 1 columns</p>\n",
       "</div>"
      ],
      "text/plain": [
       "        ENSG00000187634\\tSAMD11\\tGene Expression\n",
       "0        ENSG00000188976\\tNOC2L\\tGene Expression\n",
       "1       ENSG00000187961\\tKLHL17\\tGene Expression\n",
       "2      ENSG00000187583\\tPLEKHN1\\tGene Expression\n",
       "3        ENSG00000187642\\tPERM1\\tGene Expression\n",
       "4         ENSG00000188290\\tHES4\\tGene Expression\n",
       "...                                          ...\n",
       "17937    ENSG00000258992\\tTSPY1\\tGene Expression\n",
       "17938    ENSG00000114374\\tUSP9Y\\tGene Expression\n",
       "17939    ENSG00000067048\\tDDX3Y\\tGene Expression\n",
       "17940   ENSG00000154620\\tTMSB4Y\\tGene Expression\n",
       "17941    ENSG00000012817\\tKDM5D\\tGene Expression\n",
       "\n",
       "[17942 rows x 1 columns]"
      ]
     },
     "execution_count": 13,
     "metadata": {},
     "output_type": "execute_result"
    }
   ],
   "source": [
    "df"
   ]
  },
  {
   "cell_type": "code",
   "execution_count": null,
   "id": "f3da0096-e4b9-475a-8d93-c6052147fd4a",
   "metadata": {},
   "outputs": [],
   "source": []
  }
 ],
 "metadata": {
  "kernelspec": {
   "display_name": "Python 3 (ipykernel)",
   "language": "python",
   "name": "python3"
  },
  "language_info": {
   "codemirror_mode": {
    "name": "ipython",
    "version": 3
   },
   "file_extension": ".py",
   "mimetype": "text/x-python",
   "name": "python",
   "nbconvert_exporter": "python",
   "pygments_lexer": "ipython3",
   "version": "3.8.13"
  }
 },
 "nbformat": 4,
 "nbformat_minor": 5
}
