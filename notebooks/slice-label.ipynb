{
 "cells": [
  {
   "cell_type": "code",
   "execution_count": 1,
   "id": "d113b2e2-b28d-430b-9ec0-78f4aa1bc333",
   "metadata": {},
   "outputs": [],
   "source": [
    "from steml.recipes import slice, label\n",
    "\n",
    "workdir = '/mnt/data5'\n",
    "name = 'lymphocyte'\n",
    "conditions = [\n",
    "    [('SDC1', False, 2),  ('PTPRC', False, 0)],  # plasma cells\n",
    "    [('MS4A1', False, 0), ('PTPRC', False, 0)],  # B cells\n",
    "    [('CD3E', False, 0),  ('PTPRC', False, 0)],  # T cells\n",
    "]"
   ]
  },
  {
   "cell_type": "code",
   "execution_count": 3,
   "id": "ef07d540-af91-49e6-b65f-7c055c1ce22e",
   "metadata": {},
   "outputs": [],
   "source": [
    "def slice_label_samples(size, resize, resize_method, suffix):\n",
    "    # count_dir = f'{workdir}/output/count/gi-cancer/outs'\n",
    "    # output_dir = f'{workdir}/output/tiles/gi-cancer{suffix}'\n",
    "    # slice(\n",
    "    #     image=f'{workdir}/data/gi-cancer/brightfield.jpg',\n",
    "    #     tissue_positions=f'{count_dir}/spatial/tissue_positions_list.csv',\n",
    "    #     size=size,\n",
    "    #     resize=resize,\n",
    "    #     resize_method=resize_method,\n",
    "    #     output_dir=output_dir,\n",
    "    # )\n",
    "    # label(\n",
    "    #     feature_barcode_matrix=f'{count_dir}/filtered_feature_bc_matrix',\n",
    "    #     conditions=conditions,\n",
    "    #     name=name,\n",
    "    #     output_dir=output_dir,\n",
    "    # )\n",
    "    for slide in ['H.pylori', 'C.diff']:\n",
    "        for area in ['A1', 'B1', 'C1', 'D1']:\n",
    "            count_dir = f'{workdir}/output/count/gi-infection/{slide}/{area}/outs'\n",
    "            output_dir = f'{workdir}/output/tiles/gi-infection{suffix}/{slide}/{area}'\n",
    "            slice(\n",
    "                image=f'{workdir}/data/gi-infection/{slide}/{area}/{area}.tif',\n",
    "                tissue_positions=f'{count_dir}/spatial/tissue_positions_list.csv',\n",
    "                size=size,\n",
    "                resize=resize,\n",
    "                resize_method=resize_method,\n",
    "                output_dir=output_dir,\n",
    "            )\n",
    "            label(\n",
    "                feature_barcode_matrix=f'{count_dir}/filtered_feature_bc_matrix',\n",
    "                conditions=conditions,\n",
    "                name=name,\n",
    "                output_dir=output_dir,\n",
    "            )"
   ]
  },
  {
   "cell_type": "markdown",
   "id": "f7d11971-d101-4942-a585-03034f253487",
   "metadata": {},
   "source": [
    "## 224x224 spot centered crop"
   ]
  },
  {
   "cell_type": "code",
   "execution_count": 3,
   "id": "2447d33a-2128-4b93-9961-6ea664417212",
   "metadata": {
    "collapsed": true,
    "jupyter": {
     "outputs_hidden": true
    },
    "tags": []
   },
   "outputs": [
    {
     "name": "stdout",
     "output_type": "stream",
     "text": [
      "2022-06-30 10:18:31 - INFO - _log:35 - Logging configuration was loaded. Log messages can be found at /mnt/data5/output/tiles/gi-cancer/slice.log.\n"
     ]
    },
    {
     "name": "stderr",
     "output_type": "stream",
     "text": [
      "100%|██████████████████████████████████████████████████████████████| 2660/2660 [00:33<00:00, 79.63it/s]"
     ]
    },
    {
     "name": "stdout",
     "output_type": "stream",
     "text": [
      "2022-06-30 10:19:04 - INFO - _log:35 - Logging configuration was loaded. Log messages can be found at /mnt/data5/output/tiles/gi-cancer/label.log.\n"
     ]
    },
    {
     "name": "stderr",
     "output_type": "stream",
     "text": [
      "\n"
     ]
    },
    {
     "name": "stdout",
     "output_type": "stream",
     "text": [
      "2022-06-30 10:19:36 - INFO - _preprocess:166 - labeled 1564/2660 (0.588) as lymphocyte at /mnt/data5/output/tiles/gi-cancer\n",
      "2022-06-30 10:19:36 - INFO - _preprocess:167 - (SDC1>2 ∧ PTPRC>0) ∨ (MS4A1>0 ∧ PTPRC>0) ∨ (CD3E>0 ∧ PTPRC>0)\n",
      "2022-06-30 10:19:36 - INFO - _log:35 - Logging configuration was loaded. Log messages can be found at /mnt/data5/output/tiles/gi-infection/H.pylori/A1/slice.log.\n"
     ]
    },
    {
     "name": "stderr",
     "output_type": "stream",
     "text": [
      "100%|████████████████████████████████████████████████████████████████| 551/551 [00:14<00:00, 37.55it/s]"
     ]
    },
    {
     "name": "stdout",
     "output_type": "stream",
     "text": [
      "2022-06-30 10:19:51 - INFO - _log:35 - Logging configuration was loaded. Log messages can be found at /mnt/data5/output/tiles/gi-infection/H.pylori/A1/label.log.\n"
     ]
    },
    {
     "name": "stderr",
     "output_type": "stream",
     "text": [
      "\n"
     ]
    },
    {
     "name": "stdout",
     "output_type": "stream",
     "text": [
      "2022-06-30 10:19:58 - INFO - _preprocess:166 - labeled 166/551 (0.301) as lymphocyte at /mnt/data5/output/tiles/gi-infection/H.pylori/A1\n",
      "2022-06-30 10:19:58 - INFO - _preprocess:167 - (SDC1>2 ∧ PTPRC>0) ∨ (MS4A1>0 ∧ PTPRC>0) ∨ (CD3E>0 ∧ PTPRC>0)\n",
      "2022-06-30 10:19:58 - INFO - _log:35 - Logging configuration was loaded. Log messages can be found at /mnt/data5/output/tiles/gi-infection/H.pylori/B1/slice.log.\n"
     ]
    },
    {
     "name": "stderr",
     "output_type": "stream",
     "text": [
      "100%|████████████████████████████████████████████████████████████████| 791/791 [00:25<00:00, 31.38it/s]"
     ]
    },
    {
     "name": "stdout",
     "output_type": "stream",
     "text": [
      "2022-06-30 10:20:23 - INFO - _log:35 - Logging configuration was loaded. Log messages can be found at /mnt/data5/output/tiles/gi-infection/H.pylori/B1/label.log.\n"
     ]
    },
    {
     "name": "stderr",
     "output_type": "stream",
     "text": [
      "\n"
     ]
    },
    {
     "name": "stdout",
     "output_type": "stream",
     "text": [
      "2022-06-30 10:20:30 - INFO - _preprocess:166 - labeled 336/791 (0.425) as lymphocyte at /mnt/data5/output/tiles/gi-infection/H.pylori/B1\n",
      "2022-06-30 10:20:30 - INFO - _preprocess:167 - (SDC1>2 ∧ PTPRC>0) ∨ (MS4A1>0 ∧ PTPRC>0) ∨ (CD3E>0 ∧ PTPRC>0)\n",
      "2022-06-30 10:20:30 - INFO - _log:35 - Logging configuration was loaded. Log messages can be found at /mnt/data5/output/tiles/gi-infection/H.pylori/C1/slice.log.\n"
     ]
    },
    {
     "name": "stderr",
     "output_type": "stream",
     "text": [
      "100%|████████████████████████████████████████████████████████████████| 757/757 [00:22<00:00, 33.55it/s]"
     ]
    },
    {
     "name": "stdout",
     "output_type": "stream",
     "text": [
      "2022-06-30 10:20:53 - INFO - _log:35 - Logging configuration was loaded. Log messages can be found at /mnt/data5/output/tiles/gi-infection/H.pylori/C1/label.log.\n"
     ]
    },
    {
     "name": "stderr",
     "output_type": "stream",
     "text": [
      "\n"
     ]
    },
    {
     "name": "stdout",
     "output_type": "stream",
     "text": [
      "2022-06-30 10:21:00 - INFO - _preprocess:166 - labeled 256/757 (0.338) as lymphocyte at /mnt/data5/output/tiles/gi-infection/H.pylori/C1\n",
      "2022-06-30 10:21:00 - INFO - _preprocess:167 - (SDC1>2 ∧ PTPRC>0) ∨ (MS4A1>0 ∧ PTPRC>0) ∨ (CD3E>0 ∧ PTPRC>0)\n",
      "2022-06-30 10:21:00 - INFO - _log:35 - Logging configuration was loaded. Log messages can be found at /mnt/data5/output/tiles/gi-infection/H.pylori/D1/slice.log.\n"
     ]
    },
    {
     "name": "stderr",
     "output_type": "stream",
     "text": [
      "100%|████████████████████████████████████████████████████████████████| 804/804 [00:21<00:00, 37.27it/s]"
     ]
    },
    {
     "name": "stdout",
     "output_type": "stream",
     "text": [
      "2022-06-30 10:21:22 - INFO - _log:35 - Logging configuration was loaded. Log messages can be found at /mnt/data5/output/tiles/gi-infection/H.pylori/D1/label.log.\n"
     ]
    },
    {
     "name": "stderr",
     "output_type": "stream",
     "text": [
      "\n"
     ]
    },
    {
     "name": "stdout",
     "output_type": "stream",
     "text": [
      "2022-06-30 10:21:27 - INFO - _preprocess:166 - labeled 310/804 (0.386) as lymphocyte at /mnt/data5/output/tiles/gi-infection/H.pylori/D1\n",
      "2022-06-30 10:21:27 - INFO - _preprocess:167 - (SDC1>2 ∧ PTPRC>0) ∨ (MS4A1>0 ∧ PTPRC>0) ∨ (CD3E>0 ∧ PTPRC>0)\n",
      "2022-06-30 10:21:27 - INFO - _log:35 - Logging configuration was loaded. Log messages can be found at /mnt/data5/output/tiles/gi-infection/C.diff/A1/slice.log.\n"
     ]
    },
    {
     "name": "stderr",
     "output_type": "stream",
     "text": [
      "100%|████████████████████████████████████████████████████████████████| 710/710 [00:18<00:00, 38.45it/s]"
     ]
    },
    {
     "name": "stdout",
     "output_type": "stream",
     "text": [
      "2022-06-30 10:21:46 - INFO - _log:35 - Logging configuration was loaded. Log messages can be found at /mnt/data5/output/tiles/gi-infection/C.diff/A1/label.log.\n"
     ]
    },
    {
     "name": "stderr",
     "output_type": "stream",
     "text": [
      "\n"
     ]
    },
    {
     "name": "stdout",
     "output_type": "stream",
     "text": [
      "2022-06-30 10:21:54 - INFO - _preprocess:166 - labeled 397/710 (0.559) as lymphocyte at /mnt/data5/output/tiles/gi-infection/C.diff/A1\n",
      "2022-06-30 10:21:54 - INFO - _preprocess:167 - (SDC1>2 ∧ PTPRC>0) ∨ (MS4A1>0 ∧ PTPRC>0) ∨ (CD3E>0 ∧ PTPRC>0)\n",
      "2022-06-30 10:21:54 - INFO - _log:35 - Logging configuration was loaded. Log messages can be found at /mnt/data5/output/tiles/gi-infection/C.diff/B1/slice.log.\n"
     ]
    },
    {
     "name": "stderr",
     "output_type": "stream",
     "text": [
      "100%|████████████████████████████████████████████████████████████████| 555/555 [00:15<00:00, 35.45it/s]"
     ]
    },
    {
     "name": "stdout",
     "output_type": "stream",
     "text": [
      "2022-06-30 10:22:10 - INFO - _log:35 - Logging configuration was loaded. Log messages can be found at /mnt/data5/output/tiles/gi-infection/C.diff/B1/label.log.\n"
     ]
    },
    {
     "name": "stderr",
     "output_type": "stream",
     "text": [
      "\n"
     ]
    },
    {
     "name": "stdout",
     "output_type": "stream",
     "text": [
      "2022-06-30 10:22:16 - INFO - _preprocess:166 - labeled 417/555 (0.751) as lymphocyte at /mnt/data5/output/tiles/gi-infection/C.diff/B1\n",
      "2022-06-30 10:22:16 - INFO - _preprocess:167 - (SDC1>2 ∧ PTPRC>0) ∨ (MS4A1>0 ∧ PTPRC>0) ∨ (CD3E>0 ∧ PTPRC>0)\n",
      "2022-06-30 10:22:17 - INFO - _log:35 - Logging configuration was loaded. Log messages can be found at /mnt/data5/output/tiles/gi-infection/C.diff/C1/slice.log.\n"
     ]
    },
    {
     "name": "stderr",
     "output_type": "stream",
     "text": [
      "100%|██████████████████████████████████████████████████████████████| 2891/2891 [01:22<00:00, 34.91it/s]"
     ]
    },
    {
     "name": "stdout",
     "output_type": "stream",
     "text": [
      "2022-06-30 10:23:39 - INFO - _log:35 - Logging configuration was loaded. Log messages can be found at /mnt/data5/output/tiles/gi-infection/C.diff/C1/label.log.\n"
     ]
    },
    {
     "name": "stderr",
     "output_type": "stream",
     "text": [
      "\n"
     ]
    },
    {
     "name": "stdout",
     "output_type": "stream",
     "text": [
      "2022-06-30 10:23:56 - INFO - _preprocess:166 - labeled 436/2891 (0.151) as lymphocyte at /mnt/data5/output/tiles/gi-infection/C.diff/C1\n",
      "2022-06-30 10:23:56 - INFO - _preprocess:167 - (SDC1>2 ∧ PTPRC>0) ∨ (MS4A1>0 ∧ PTPRC>0) ∨ (CD3E>0 ∧ PTPRC>0)\n",
      "2022-06-30 10:23:56 - INFO - _log:35 - Logging configuration was loaded. Log messages can be found at /mnt/data5/output/tiles/gi-infection/C.diff/D1/slice.log.\n"
     ]
    },
    {
     "name": "stderr",
     "output_type": "stream",
     "text": [
      "100%|██████████████████████████████████████████████████████████████| 2180/2180 [00:56<00:00, 38.73it/s]"
     ]
    },
    {
     "name": "stdout",
     "output_type": "stream",
     "text": [
      "2022-06-30 10:24:53 - INFO - _log:35 - Logging configuration was loaded. Log messages can be found at /mnt/data5/output/tiles/gi-infection/C.diff/D1/label.log.\n"
     ]
    },
    {
     "name": "stderr",
     "output_type": "stream",
     "text": [
      "\n"
     ]
    },
    {
     "name": "stdout",
     "output_type": "stream",
     "text": [
      "2022-06-30 10:24:57 - INFO - _preprocess:166 - labeled 30/2180 (0.014) as lymphocyte at /mnt/data5/output/tiles/gi-infection/C.diff/D1\n",
      "2022-06-30 10:24:57 - INFO - _preprocess:167 - (SDC1>2 ∧ PTPRC>0) ∨ (MS4A1>0 ∧ PTPRC>0) ∨ (CD3E>0 ∧ PTPRC>0)\n"
     ]
    }
   ],
   "source": [
    "slice_label_samples(\n",
    "    size=224,\n",
    "    resize=None,\n",
    "    resize_method='',\n",
    "    suffix='',\n",
    ")"
   ]
  },
  {
   "cell_type": "markdown",
   "id": "19e0da35-162a-47ad-a1a0-1cae7f82494c",
   "metadata": {},
   "source": [
    "# 86x86 spot centered crop, scaled to 224x224"
   ]
  },
  {
   "cell_type": "code",
   "execution_count": 3,
   "id": "3a2ca665-dabb-424b-b5e6-9f0cad1686c4",
   "metadata": {
    "collapsed": true,
    "jupyter": {
     "outputs_hidden": true
    },
    "tags": []
   },
   "outputs": [
    {
     "name": "stdout",
     "output_type": "stream",
     "text": [
      "2022-06-30 12:00:06 - INFO - _log:35 - Logging configuration was loaded. Log messages can be found at /mnt/data5/output/tiles/gi-cancer-scaled/slice.log.\n"
     ]
    },
    {
     "name": "stderr",
     "output_type": "stream",
     "text": [
      "100%|██████████████████████████████████████████████████████████████| 2660/2660 [01:19<00:00, 33.34it/s]"
     ]
    },
    {
     "name": "stdout",
     "output_type": "stream",
     "text": [
      "2022-06-30 12:01:26 - INFO - _log:35 - Logging configuration was loaded. Log messages can be found at /mnt/data5/output/tiles/gi-cancer-scaled/label.log.\n"
     ]
    },
    {
     "name": "stderr",
     "output_type": "stream",
     "text": [
      "\n"
     ]
    },
    {
     "name": "stdout",
     "output_type": "stream",
     "text": [
      "2022-06-30 12:01:59 - INFO - _preprocess:166 - labeled 1564/2660 (0.588) as lymphocyte at /mnt/data5/output/tiles/gi-cancer-scaled\n",
      "2022-06-30 12:01:59 - INFO - _preprocess:167 - (SDC1>2 ∧ PTPRC>0) ∨ (MS4A1>0 ∧ PTPRC>0) ∨ (CD3E>0 ∧ PTPRC>0)\n",
      "2022-06-30 12:01:59 - INFO - _log:35 - Logging configuration was loaded. Log messages can be found at /mnt/data5/output/tiles/gi-infection-scaled/H.pylori/A1/slice.log.\n"
     ]
    },
    {
     "name": "stderr",
     "output_type": "stream",
     "text": [
      "100%|████████████████████████████████████████████████████████████████| 551/551 [00:17<00:00, 30.63it/s]"
     ]
    },
    {
     "name": "stdout",
     "output_type": "stream",
     "text": [
      "2022-06-30 12:02:17 - INFO - _log:35 - Logging configuration was loaded. Log messages can be found at /mnt/data5/output/tiles/gi-infection-scaled/H.pylori/A1/label.log.\n"
     ]
    },
    {
     "name": "stderr",
     "output_type": "stream",
     "text": [
      "\n"
     ]
    },
    {
     "name": "stdout",
     "output_type": "stream",
     "text": [
      "2022-06-30 12:02:25 - INFO - _preprocess:166 - labeled 166/551 (0.301) as lymphocyte at /mnt/data5/output/tiles/gi-infection-scaled/H.pylori/A1\n",
      "2022-06-30 12:02:25 - INFO - _preprocess:167 - (SDC1>2 ∧ PTPRC>0) ∨ (MS4A1>0 ∧ PTPRC>0) ∨ (CD3E>0 ∧ PTPRC>0)\n",
      "2022-06-30 12:02:25 - INFO - _log:35 - Logging configuration was loaded. Log messages can be found at /mnt/data5/output/tiles/gi-infection-scaled/H.pylori/B1/slice.log.\n"
     ]
    },
    {
     "name": "stderr",
     "output_type": "stream",
     "text": [
      "100%|████████████████████████████████████████████████████████████████| 791/791 [00:24<00:00, 32.30it/s]"
     ]
    },
    {
     "name": "stdout",
     "output_type": "stream",
     "text": [
      "2022-06-30 12:02:49 - INFO - _log:35 - Logging configuration was loaded. Log messages can be found at /mnt/data5/output/tiles/gi-infection-scaled/H.pylori/B1/label.log.\n"
     ]
    },
    {
     "name": "stderr",
     "output_type": "stream",
     "text": [
      "\n"
     ]
    },
    {
     "name": "stdout",
     "output_type": "stream",
     "text": [
      "2022-06-30 12:02:57 - INFO - _preprocess:166 - labeled 336/791 (0.425) as lymphocyte at /mnt/data5/output/tiles/gi-infection-scaled/H.pylori/B1\n",
      "2022-06-30 12:02:57 - INFO - _preprocess:167 - (SDC1>2 ∧ PTPRC>0) ∨ (MS4A1>0 ∧ PTPRC>0) ∨ (CD3E>0 ∧ PTPRC>0)\n",
      "2022-06-30 12:02:57 - INFO - _log:35 - Logging configuration was loaded. Log messages can be found at /mnt/data5/output/tiles/gi-infection-scaled/H.pylori/C1/slice.log.\n"
     ]
    },
    {
     "name": "stderr",
     "output_type": "stream",
     "text": [
      "100%|████████████████████████████████████████████████████████████████| 757/757 [00:24<00:00, 30.29it/s]"
     ]
    },
    {
     "name": "stdout",
     "output_type": "stream",
     "text": [
      "2022-06-30 12:03:22 - INFO - _log:35 - Logging configuration was loaded. Log messages can be found at /mnt/data5/output/tiles/gi-infection-scaled/H.pylori/C1/label.log.\n"
     ]
    },
    {
     "name": "stderr",
     "output_type": "stream",
     "text": [
      "\n"
     ]
    },
    {
     "name": "stdout",
     "output_type": "stream",
     "text": [
      "2022-06-30 12:03:29 - INFO - _preprocess:166 - labeled 256/757 (0.338) as lymphocyte at /mnt/data5/output/tiles/gi-infection-scaled/H.pylori/C1\n",
      "2022-06-30 12:03:29 - INFO - _preprocess:167 - (SDC1>2 ∧ PTPRC>0) ∨ (MS4A1>0 ∧ PTPRC>0) ∨ (CD3E>0 ∧ PTPRC>0)\n",
      "2022-06-30 12:03:29 - INFO - _log:35 - Logging configuration was loaded. Log messages can be found at /mnt/data5/output/tiles/gi-infection-scaled/H.pylori/D1/slice.log.\n"
     ]
    },
    {
     "name": "stderr",
     "output_type": "stream",
     "text": [
      "100%|████████████████████████████████████████████████████████████████| 804/804 [00:25<00:00, 31.46it/s]"
     ]
    },
    {
     "name": "stdout",
     "output_type": "stream",
     "text": [
      "2022-06-30 12:03:55 - INFO - _log:35 - Logging configuration was loaded. Log messages can be found at /mnt/data5/output/tiles/gi-infection-scaled/H.pylori/D1/label.log.\n"
     ]
    },
    {
     "name": "stderr",
     "output_type": "stream",
     "text": [
      "\n"
     ]
    },
    {
     "name": "stdout",
     "output_type": "stream",
     "text": [
      "2022-06-30 12:04:00 - INFO - _preprocess:166 - labeled 310/804 (0.386) as lymphocyte at /mnt/data5/output/tiles/gi-infection-scaled/H.pylori/D1\n",
      "2022-06-30 12:04:00 - INFO - _preprocess:167 - (SDC1>2 ∧ PTPRC>0) ∨ (MS4A1>0 ∧ PTPRC>0) ∨ (CD3E>0 ∧ PTPRC>0)\n",
      "2022-06-30 12:04:00 - INFO - _log:35 - Logging configuration was loaded. Log messages can be found at /mnt/data5/output/tiles/gi-infection-scaled/C.diff/A1/slice.log.\n"
     ]
    },
    {
     "name": "stderr",
     "output_type": "stream",
     "text": [
      "100%|████████████████████████████████████████████████████████████████| 710/710 [00:22<00:00, 31.96it/s]"
     ]
    },
    {
     "name": "stdout",
     "output_type": "stream",
     "text": [
      "2022-06-30 12:04:23 - INFO - _log:35 - Logging configuration was loaded. Log messages can be found at /mnt/data5/output/tiles/gi-infection-scaled/C.diff/A1/label.log.\n"
     ]
    },
    {
     "name": "stderr",
     "output_type": "stream",
     "text": [
      "\n"
     ]
    },
    {
     "name": "stdout",
     "output_type": "stream",
     "text": [
      "2022-06-30 12:04:30 - INFO - _preprocess:166 - labeled 397/710 (0.559) as lymphocyte at /mnt/data5/output/tiles/gi-infection-scaled/C.diff/A1\n",
      "2022-06-30 12:04:30 - INFO - _preprocess:167 - (SDC1>2 ∧ PTPRC>0) ∨ (MS4A1>0 ∧ PTPRC>0) ∨ (CD3E>0 ∧ PTPRC>0)\n",
      "2022-06-30 12:04:31 - INFO - _log:35 - Logging configuration was loaded. Log messages can be found at /mnt/data5/output/tiles/gi-infection-scaled/C.diff/B1/slice.log.\n"
     ]
    },
    {
     "name": "stderr",
     "output_type": "stream",
     "text": [
      "100%|████████████████████████████████████████████████████████████████| 555/555 [00:16<00:00, 33.89it/s]"
     ]
    },
    {
     "name": "stdout",
     "output_type": "stream",
     "text": [
      "2022-06-30 12:04:47 - INFO - _log:35 - Logging configuration was loaded. Log messages can be found at /mnt/data5/output/tiles/gi-infection-scaled/C.diff/B1/label.log.\n"
     ]
    },
    {
     "name": "stderr",
     "output_type": "stream",
     "text": [
      "\n"
     ]
    },
    {
     "name": "stdout",
     "output_type": "stream",
     "text": [
      "2022-06-30 12:04:54 - INFO - _preprocess:166 - labeled 417/555 (0.751) as lymphocyte at /mnt/data5/output/tiles/gi-infection-scaled/C.diff/B1\n",
      "2022-06-30 12:04:54 - INFO - _preprocess:167 - (SDC1>2 ∧ PTPRC>0) ∨ (MS4A1>0 ∧ PTPRC>0) ∨ (CD3E>0 ∧ PTPRC>0)\n",
      "2022-06-30 12:04:54 - INFO - _log:35 - Logging configuration was loaded. Log messages can be found at /mnt/data5/output/tiles/gi-infection-scaled/C.diff/C1/slice.log.\n"
     ]
    },
    {
     "name": "stderr",
     "output_type": "stream",
     "text": [
      "100%|██████████████████████████████████████████████████████████████| 2891/2891 [01:29<00:00, 32.24it/s]"
     ]
    },
    {
     "name": "stdout",
     "output_type": "stream",
     "text": [
      "2022-06-30 12:06:24 - INFO - _log:35 - Logging configuration was loaded. Log messages can be found at /mnt/data5/output/tiles/gi-infection-scaled/C.diff/C1/label.log.\n"
     ]
    },
    {
     "name": "stderr",
     "output_type": "stream",
     "text": [
      "\n"
     ]
    },
    {
     "name": "stdout",
     "output_type": "stream",
     "text": [
      "2022-06-30 12:06:41 - INFO - _preprocess:166 - labeled 436/2891 (0.151) as lymphocyte at /mnt/data5/output/tiles/gi-infection-scaled/C.diff/C1\n",
      "2022-06-30 12:06:41 - INFO - _preprocess:167 - (SDC1>2 ∧ PTPRC>0) ∨ (MS4A1>0 ∧ PTPRC>0) ∨ (CD3E>0 ∧ PTPRC>0)\n",
      "2022-06-30 12:06:41 - INFO - _log:35 - Logging configuration was loaded. Log messages can be found at /mnt/data5/output/tiles/gi-infection-scaled/C.diff/D1/slice.log.\n"
     ]
    },
    {
     "name": "stderr",
     "output_type": "stream",
     "text": [
      "100%|██████████████████████████████████████████████████████████████| 2180/2180 [01:08<00:00, 31.92it/s]"
     ]
    },
    {
     "name": "stdout",
     "output_type": "stream",
     "text": [
      "2022-06-30 12:07:49 - INFO - _log:35 - Logging configuration was loaded. Log messages can be found at /mnt/data5/output/tiles/gi-infection-scaled/C.diff/D1/label.log.\n"
     ]
    },
    {
     "name": "stderr",
     "output_type": "stream",
     "text": [
      "\n"
     ]
    },
    {
     "name": "stdout",
     "output_type": "stream",
     "text": [
      "2022-06-30 12:07:54 - INFO - _preprocess:166 - labeled 30/2180 (0.014) as lymphocyte at /mnt/data5/output/tiles/gi-infection-scaled/C.diff/D1\n",
      "2022-06-30 12:07:54 - INFO - _preprocess:167 - (SDC1>2 ∧ PTPRC>0) ∨ (MS4A1>0 ∧ PTPRC>0) ∨ (CD3E>0 ∧ PTPRC>0)\n"
     ]
    }
   ],
   "source": [
    "slice_label_samples(\n",
    "    size=86,\n",
    "    resize=224,\n",
    "    resize_method='scale',\n",
    "    suffix='-scaled',\n",
    ")"
   ]
  },
  {
   "cell_type": "markdown",
   "id": "f4d50f05-de6a-4437-8668-43ddabe48340",
   "metadata": {},
   "source": [
    "# 86x86 spot centered crop, zero padded to 224x224"
   ]
  },
  {
   "cell_type": "code",
   "execution_count": 4,
   "id": "5c32a06a-fc6b-47bf-88a1-78f6d8536b34",
   "metadata": {
    "collapsed": true,
    "jupyter": {
     "outputs_hidden": true
    },
    "tags": []
   },
   "outputs": [
    {
     "name": "stdout",
     "output_type": "stream",
     "text": [
      "2022-06-30 12:41:17 - INFO - _log:35 - Logging configuration was loaded. Log messages can be found at /mnt/data5/output/tiles/gi-infection-padded/H.pylori/A1/slice.log.\n"
     ]
    },
    {
     "name": "stderr",
     "output_type": "stream",
     "text": [
      "100%|███████████████████████████████████████████████████████████████| 551/551 [00:03<00:00, 161.96it/s]"
     ]
    },
    {
     "name": "stdout",
     "output_type": "stream",
     "text": [
      "2022-06-30 12:41:20 - INFO - _log:35 - Logging configuration was loaded. Log messages can be found at /mnt/data5/output/tiles/gi-infection-padded/H.pylori/A1/label.log.\n"
     ]
    },
    {
     "name": "stderr",
     "output_type": "stream",
     "text": [
      "\n"
     ]
    },
    {
     "name": "stdout",
     "output_type": "stream",
     "text": [
      "2022-06-30 12:41:28 - INFO - _preprocess:168 - labeled 166/551 (0.301) as lymphocyte at /mnt/data5/output/tiles/gi-infection-padded/H.pylori/A1\n",
      "2022-06-30 12:41:28 - INFO - _preprocess:169 - (SDC1>2 ∧ PTPRC>0) ∨ (MS4A1>0 ∧ PTPRC>0) ∨ (CD3E>0 ∧ PTPRC>0)\n",
      "2022-06-30 12:41:28 - INFO - _log:35 - Logging configuration was loaded. Log messages can be found at /mnt/data5/output/tiles/gi-infection-padded/H.pylori/B1/slice.log.\n"
     ]
    },
    {
     "name": "stderr",
     "output_type": "stream",
     "text": [
      "100%|███████████████████████████████████████████████████████████████| 791/791 [00:04<00:00, 195.85it/s]"
     ]
    },
    {
     "name": "stdout",
     "output_type": "stream",
     "text": [
      "2022-06-30 12:41:32 - INFO - _log:35 - Logging configuration was loaded. Log messages can be found at /mnt/data5/output/tiles/gi-infection-padded/H.pylori/B1/label.log.\n"
     ]
    },
    {
     "name": "stderr",
     "output_type": "stream",
     "text": [
      "\n"
     ]
    },
    {
     "name": "stdout",
     "output_type": "stream",
     "text": [
      "2022-06-30 12:41:40 - INFO - _preprocess:168 - labeled 336/791 (0.425) as lymphocyte at /mnt/data5/output/tiles/gi-infection-padded/H.pylori/B1\n",
      "2022-06-30 12:41:40 - INFO - _preprocess:169 - (SDC1>2 ∧ PTPRC>0) ∨ (MS4A1>0 ∧ PTPRC>0) ∨ (CD3E>0 ∧ PTPRC>0)\n",
      "2022-06-30 12:41:40 - INFO - _log:35 - Logging configuration was loaded. Log messages can be found at /mnt/data5/output/tiles/gi-infection-padded/H.pylori/C1/slice.log.\n"
     ]
    },
    {
     "name": "stderr",
     "output_type": "stream",
     "text": [
      "100%|███████████████████████████████████████████████████████████████| 757/757 [00:03<00:00, 197.15it/s]"
     ]
    },
    {
     "name": "stdout",
     "output_type": "stream",
     "text": [
      "2022-06-30 12:41:44 - INFO - _log:35 - Logging configuration was loaded. Log messages can be found at /mnt/data5/output/tiles/gi-infection-padded/H.pylori/C1/label.log.\n"
     ]
    },
    {
     "name": "stderr",
     "output_type": "stream",
     "text": [
      "\n"
     ]
    },
    {
     "name": "stdout",
     "output_type": "stream",
     "text": [
      "2022-06-30 12:41:52 - INFO - _preprocess:168 - labeled 256/757 (0.338) as lymphocyte at /mnt/data5/output/tiles/gi-infection-padded/H.pylori/C1\n",
      "2022-06-30 12:41:52 - INFO - _preprocess:169 - (SDC1>2 ∧ PTPRC>0) ∨ (MS4A1>0 ∧ PTPRC>0) ∨ (CD3E>0 ∧ PTPRC>0)\n",
      "2022-06-30 12:41:52 - INFO - _log:35 - Logging configuration was loaded. Log messages can be found at /mnt/data5/output/tiles/gi-infection-padded/H.pylori/D1/slice.log.\n"
     ]
    },
    {
     "name": "stderr",
     "output_type": "stream",
     "text": [
      "100%|███████████████████████████████████████████████████████████████| 804/804 [00:03<00:00, 216.12it/s]"
     ]
    },
    {
     "name": "stdout",
     "output_type": "stream",
     "text": [
      "2022-06-30 12:41:56 - INFO - _log:35 - Logging configuration was loaded. Log messages can be found at /mnt/data5/output/tiles/gi-infection-padded/H.pylori/D1/label.log.\n"
     ]
    },
    {
     "name": "stderr",
     "output_type": "stream",
     "text": [
      "\n"
     ]
    },
    {
     "name": "stdout",
     "output_type": "stream",
     "text": [
      "2022-06-30 12:42:01 - INFO - _preprocess:168 - labeled 310/804 (0.386) as lymphocyte at /mnt/data5/output/tiles/gi-infection-padded/H.pylori/D1\n",
      "2022-06-30 12:42:01 - INFO - _preprocess:169 - (SDC1>2 ∧ PTPRC>0) ∨ (MS4A1>0 ∧ PTPRC>0) ∨ (CD3E>0 ∧ PTPRC>0)\n",
      "2022-06-30 12:42:01 - INFO - _log:35 - Logging configuration was loaded. Log messages can be found at /mnt/data5/output/tiles/gi-infection-padded/C.diff/A1/slice.log.\n"
     ]
    },
    {
     "name": "stderr",
     "output_type": "stream",
     "text": [
      "100%|███████████████████████████████████████████████████████████████| 710/710 [00:03<00:00, 224.34it/s]"
     ]
    },
    {
     "name": "stdout",
     "output_type": "stream",
     "text": [
      "2022-06-30 12:42:05 - INFO - _log:35 - Logging configuration was loaded. Log messages can be found at /mnt/data5/output/tiles/gi-infection-padded/C.diff/A1/label.log.\n"
     ]
    },
    {
     "name": "stderr",
     "output_type": "stream",
     "text": [
      "\n"
     ]
    },
    {
     "name": "stdout",
     "output_type": "stream",
     "text": [
      "2022-06-30 12:42:13 - INFO - _preprocess:168 - labeled 397/710 (0.559) as lymphocyte at /mnt/data5/output/tiles/gi-infection-padded/C.diff/A1\n",
      "2022-06-30 12:42:13 - INFO - _preprocess:169 - (SDC1>2 ∧ PTPRC>0) ∨ (MS4A1>0 ∧ PTPRC>0) ∨ (CD3E>0 ∧ PTPRC>0)\n",
      "2022-06-30 12:42:13 - INFO - _log:35 - Logging configuration was loaded. Log messages can be found at /mnt/data5/output/tiles/gi-infection-padded/C.diff/B1/slice.log.\n"
     ]
    },
    {
     "name": "stderr",
     "output_type": "stream",
     "text": [
      "100%|███████████████████████████████████████████████████████████████| 555/555 [00:02<00:00, 190.46it/s]"
     ]
    },
    {
     "name": "stdout",
     "output_type": "stream",
     "text": [
      "2022-06-30 12:42:16 - INFO - _log:35 - Logging configuration was loaded. Log messages can be found at /mnt/data5/output/tiles/gi-infection-padded/C.diff/B1/label.log.\n"
     ]
    },
    {
     "name": "stderr",
     "output_type": "stream",
     "text": [
      "\n"
     ]
    },
    {
     "name": "stdout",
     "output_type": "stream",
     "text": [
      "2022-06-30 12:42:23 - INFO - _preprocess:168 - labeled 417/555 (0.751) as lymphocyte at /mnt/data5/output/tiles/gi-infection-padded/C.diff/B1\n",
      "2022-06-30 12:42:23 - INFO - _preprocess:169 - (SDC1>2 ∧ PTPRC>0) ∨ (MS4A1>0 ∧ PTPRC>0) ∨ (CD3E>0 ∧ PTPRC>0)\n",
      "2022-06-30 12:42:23 - INFO - _log:35 - Logging configuration was loaded. Log messages can be found at /mnt/data5/output/tiles/gi-infection-padded/C.diff/C1/slice.log.\n"
     ]
    },
    {
     "name": "stderr",
     "output_type": "stream",
     "text": [
      "100%|█████████████████████████████████████████████████████████████| 2891/2891 [00:14<00:00, 205.74it/s]"
     ]
    },
    {
     "name": "stdout",
     "output_type": "stream",
     "text": [
      "2022-06-30 12:42:38 - INFO - _log:35 - Logging configuration was loaded. Log messages can be found at /mnt/data5/output/tiles/gi-infection-padded/C.diff/C1/label.log.\n"
     ]
    },
    {
     "name": "stderr",
     "output_type": "stream",
     "text": [
      "\n"
     ]
    },
    {
     "name": "stdout",
     "output_type": "stream",
     "text": [
      "2022-06-30 12:42:56 - INFO - _preprocess:168 - labeled 436/2891 (0.151) as lymphocyte at /mnt/data5/output/tiles/gi-infection-padded/C.diff/C1\n",
      "2022-06-30 12:42:56 - INFO - _preprocess:169 - (SDC1>2 ∧ PTPRC>0) ∨ (MS4A1>0 ∧ PTPRC>0) ∨ (CD3E>0 ∧ PTPRC>0)\n",
      "2022-06-30 12:42:56 - INFO - _log:35 - Logging configuration was loaded. Log messages can be found at /mnt/data5/output/tiles/gi-infection-padded/C.diff/D1/slice.log.\n"
     ]
    },
    {
     "name": "stderr",
     "output_type": "stream",
     "text": [
      "100%|█████████████████████████████████████████████████████████████| 2180/2180 [00:08<00:00, 243.84it/s]"
     ]
    },
    {
     "name": "stdout",
     "output_type": "stream",
     "text": [
      "2022-06-30 12:43:05 - INFO - _log:35 - Logging configuration was loaded. Log messages can be found at /mnt/data5/output/tiles/gi-infection-padded/C.diff/D1/label.log.\n"
     ]
    },
    {
     "name": "stderr",
     "output_type": "stream",
     "text": [
      "\n"
     ]
    },
    {
     "name": "stdout",
     "output_type": "stream",
     "text": [
      "2022-06-30 12:43:10 - INFO - _preprocess:168 - labeled 30/2180 (0.014) as lymphocyte at /mnt/data5/output/tiles/gi-infection-padded/C.diff/D1\n",
      "2022-06-30 12:43:10 - INFO - _preprocess:169 - (SDC1>2 ∧ PTPRC>0) ∨ (MS4A1>0 ∧ PTPRC>0) ∨ (CD3E>0 ∧ PTPRC>0)\n"
     ]
    }
   ],
   "source": [
    "slice_label_samples(\n",
    "    size=86,\n",
    "    resize=224,\n",
    "    resize_method='pad',\n",
    "    suffix='-padded',\n",
    ")"
   ]
  },
  {
   "cell_type": "code",
   "execution_count": null,
   "id": "6ad2fc7b-2777-461d-9d26-ed1b90441c71",
   "metadata": {},
   "outputs": [],
   "source": []
  }
 ],
 "metadata": {
  "kernelspec": {
   "display_name": "Python 3 (ipykernel)",
   "language": "python",
   "name": "python3"
  },
  "language_info": {
   "codemirror_mode": {
    "name": "ipython",
    "version": 3
   },
   "file_extension": ".py",
   "mimetype": "text/x-python",
   "name": "python",
   "nbconvert_exporter": "python",
   "pygments_lexer": "ipython3",
   "version": "3.8.13"
  }
 },
 "nbformat": 4,
 "nbformat_minor": 5
}
