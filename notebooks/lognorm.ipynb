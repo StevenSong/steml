{
 "cells": [
  {
   "cell_type": "code",
   "execution_count": 1,
   "id": "d33d877b-4ba9-4a00-b35e-c5204b363971",
   "metadata": {},
   "outputs": [],
   "source": [
    "import os\n",
    "import shutil\n",
    "from steml.recipes import lognorm"
   ]
  },
  {
   "cell_type": "code",
   "execution_count": 4,
   "id": "5ff885dd-02ce-4698-a5a7-6370f2f185e4",
   "metadata": {},
   "outputs": [
    {
     "name": "stdout",
     "output_type": "stream",
     "text": [
      "2022-08-02 17:37:02 - INFO - _log:27 - Logging configuration was loaded. Log messages can be found at /mnt/data5/output/count/gi-infection/H.pylori/A1/outs/filtered_feature_bc_matrix_lognorm/lognorm.log.\n",
      "2022-08-02 17:37:32 - INFO - _log:27 - Logging configuration was loaded. Log messages can be found at /mnt/data5/output/count/gi-infection/H.pylori/B1/outs/filtered_feature_bc_matrix_lognorm/lognorm.log.\n",
      "2022-08-02 17:38:05 - INFO - _log:27 - Logging configuration was loaded. Log messages can be found at /mnt/data5/output/count/gi-infection/H.pylori/C1/outs/filtered_feature_bc_matrix_lognorm/lognorm.log.\n",
      "2022-08-02 17:38:39 - INFO - _log:27 - Logging configuration was loaded. Log messages can be found at /mnt/data5/output/count/gi-infection/H.pylori/D1/outs/filtered_feature_bc_matrix_lognorm/lognorm.log.\n",
      "2022-08-02 17:39:01 - INFO - _log:27 - Logging configuration was loaded. Log messages can be found at /mnt/data5/output/count/gi-infection/C.diff/A1/outs/filtered_feature_bc_matrix_lognorm/lognorm.log.\n",
      "2022-08-02 17:39:36 - INFO - _log:27 - Logging configuration was loaded. Log messages can be found at /mnt/data5/output/count/gi-infection/C.diff/B1/outs/filtered_feature_bc_matrix_lognorm/lognorm.log.\n",
      "2022-08-02 17:40:06 - INFO - _log:27 - Logging configuration was loaded. Log messages can be found at /mnt/data5/output/count/gi-infection/C.diff/C1/outs/filtered_feature_bc_matrix_lognorm/lognorm.log.\n",
      "2022-08-02 17:41:31 - INFO - _log:27 - Logging configuration was loaded. Log messages can be found at /mnt/data5/output/count/gi-infection/C.diff/D1/outs/filtered_feature_bc_matrix_lognorm/lognorm.log.\n"
     ]
    }
   ],
   "source": [
    "for slide in ['H.pylori', 'C.diff']:\n",
    "    for section in ['A1', 'B1', 'C1', 'D1']:\n",
    "        folder = f'/mnt/data5/output/count/gi-infection/{slide}/{section}/outs'\n",
    "        lognorm(\n",
    "            feature_barcode_matrix = f'{folder}/filtered_feature_bc_matrix',\n",
    "            output_dir = f'{folder}/filtered_feature_bc_matrix_lognorm',\n",
    "            normalize = True,\n",
    "            target = 10000,\n",
    "            use_slide_size = True,\n",
    "            log_scale = True,\n",
    "        )\n",
    "        shutil.copy(f'{folder}/filtered_feature_bc_matrix/barcodes.tsv.gz', f'{folder}/filtered_feature_bc_matrix_lognorm')\n",
    "        shutil.copy(f'{folder}/filtered_feature_bc_matrix/features.tsv.gz', f'{folder}/filtered_feature_bc_matrix_lognorm')"
   ]
  },
  {
   "cell_type": "code",
   "execution_count": null,
   "id": "962486dc-418b-4091-b18c-ba8f725ebc49",
   "metadata": {},
   "outputs": [],
   "source": []
  }
 ],
 "metadata": {
  "kernelspec": {
   "display_name": "Python 3 (ipykernel)",
   "language": "python",
   "name": "python3"
  },
  "language_info": {
   "codemirror_mode": {
    "name": "ipython",
    "version": 3
   },
   "file_extension": ".py",
   "mimetype": "text/x-python",
   "name": "python",
   "nbconvert_exporter": "python",
   "pygments_lexer": "ipython3",
   "version": "3.8.13"
  }
 },
 "nbformat": 4,
 "nbformat_minor": 5
}
