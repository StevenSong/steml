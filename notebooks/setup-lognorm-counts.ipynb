{
 "cells": [
  {
   "cell_type": "code",
   "execution_count": 1,
   "id": "07be9ac1-5f32-467f-b383-6ee9be11f7b7",
   "metadata": {},
   "outputs": [],
   "source": [
    "import numpy as pd\n",
    "import pandas as pd\n",
    "from scipy.io import mmread"
   ]
  },
  {
   "cell_type": "code",
   "execution_count": 5,
   "id": "8b803fa8-0dc3-4c9e-b90b-38f487ee0870",
   "metadata": {},
   "outputs": [],
   "source": [
    "for slide in ['C.diff', 'H.pylori']:\n",
    "    for section in ['A1', 'B1', 'C1', 'D1']:\n",
    "        folder = f'{slide}/{section}'\n",
    "        if folder == 'C.diff/D1':\n",
    "            continue\n",
    "        mat = mmread(f'/mnt/data5/output/count/gi-infection/{folder}/outs/filtered_feature_bc_matrix_lognorm/matrix.mtx.gz')\n",
    "        genes = pd.read_csv(f'/mnt/data5/output/count/gi-infection/{folder}/outs/filtered_feature_bc_matrix_lognorm/features.tsv.gz', header=None, sep='\\t')[1]\n",
    "        barcodes = pd.read_csv(f'/mnt/data5/output/count/gi-infection/{folder}/outs/filtered_feature_bc_matrix_lognorm/barcodes.tsv.gz', header=None)[0]\n",
    "        df = pd.DataFrame(mat.toarray().T, columns=genes)\n",
    "        df['barcode'] = barcodes\n",
    "        df['path'] = f'/mnt/data5/output/tiles/gi-infection-scaled/{folder}/' + df['barcode'] + '.png'\n",
    "        df.to_csv(f'/mnt/data5/output/labels/gi-infection-scaled-lognorm/{folder}/count.csv', index=False)"
   ]
  },
  {
   "cell_type": "code",
   "execution_count": null,
   "id": "45c11e90-def0-47c3-89e2-2b87a457e210",
   "metadata": {},
   "outputs": [],
   "source": []
  }
 ],
 "metadata": {
  "kernelspec": {
   "display_name": "Python 3 (ipykernel)",
   "language": "python",
   "name": "python3"
  },
  "language_info": {
   "codemirror_mode": {
    "name": "ipython",
    "version": 3
   },
   "file_extension": ".py",
   "mimetype": "text/x-python",
   "name": "python",
   "nbconvert_exporter": "python",
   "pygments_lexer": "ipython3",
   "version": "3.8.13"
  }
 },
 "nbformat": 4,
 "nbformat_minor": 5
}
