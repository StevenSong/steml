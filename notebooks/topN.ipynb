{
 "cells": [
  {
   "cell_type": "code",
   "execution_count": 3,
   "id": "b1544e4d-a26f-4f80-86e6-fa2eb576f684",
   "metadata": {},
   "outputs": [],
   "source": [
    "from scipy.io import mmread\n",
    "import pandas as pd\n",
    "import numpy as np"
   ]
  },
  {
   "cell_type": "code",
   "execution_count": 4,
   "id": "c047493f-75d0-4c5c-bbfb-bd68213a88c4",
   "metadata": {},
   "outputs": [],
   "source": [
    "slides = [f'{slide}/{section}' for slide in ['C.diff', 'H.pylori'] for section in ['A1', 'B1', 'C1', 'D1']]\n",
    "for slide1, slide2 in zip(slides[:-1], slides[1:]):\n",
    "    genes1 = pd.read_csv(f'/mnt/data5/output/count/gi-infection/{slide1}/outs/filtered_feature_bc_matrix_lognorm/features.tsv.gz', header=None, sep='\\t')[1]\n",
    "    genes2 = pd.read_csv(f'/mnt/data5/output/count/gi-infection/{slide2}/outs/filtered_feature_bc_matrix_lognorm/features.tsv.gz', header=None, sep='\\t')[1]\n",
    "    assert (genes1 == genes2).all()\n",
    "genes = genes1\n",
    "genes.name = None"
   ]
  },
  {
   "cell_type": "code",
   "execution_count": 5,
   "id": "84313ee8-ec56-41cc-ba9a-4867d0044fcf",
   "metadata": {},
   "outputs": [],
   "source": [
    "cdiff = pd.DataFrame(columns=genes)\n",
    "hpylori = pd.DataFrame(columns=genes)\n",
    "for slide in slides:\n",
    "    if slide == 'C.diff/D1':\n",
    "        continue\n",
    "    mat = mmread(f'/mnt/data5/output/count/gi-infection/{slide}/outs/filtered_feature_bc_matrix_lognorm/matrix.mtx.gz').T\n",
    "    if 'C.diff' in slide:\n",
    "        cdiff = pd.concat([cdiff, pd.DataFrame(mat.toarray(), columns=genes)])\n",
    "    else:\n",
    "        hpylori = pd.concat([hpylori, pd.DataFrame(mat.toarray(), columns=genes)])"
   ]
  },
  {
   "cell_type": "code",
   "execution_count": 11,
   "id": "25be3487-55b1-482d-8aa3-afb1a937257e",
   "metadata": {},
   "outputs": [],
   "source": [
    "combined_df = pd.concat([cdiff, hpylori]).mean().sort_values(ascending=False).reset_index()\n",
    "combined_df.columns = ['gene', 'mean_normalized_expression']\n",
    "combined_df.to_csv('/mnt/data5/output/explore/combined_mean_lognorm_expression.csv', index=False)"
   ]
  },
  {
   "cell_type": "code",
   "execution_count": 12,
   "id": "c1ccfc0f-4be1-464e-9211-c59a3d5daa43",
   "metadata": {},
   "outputs": [],
   "source": [
    "cdiff_df = cdiff.mean().sort_values(ascending=False).reset_index()\n",
    "cdiff_df.columns = ['gene', 'mean_normalized_expression']\n",
    "cdiff_df.to_csv('/mnt/data5/output/explore/cdiff_mean_lognorm_expression.csv', index=False)"
   ]
  },
  {
   "cell_type": "code",
   "execution_count": 13,
   "id": "c1751b0c-5e67-4a4f-9c14-7a179227f4f7",
   "metadata": {},
   "outputs": [],
   "source": [
    "hpylori_df = hpylori.mean().sort_values(ascending=False).reset_index()\n",
    "hpylori_df.columns = ['gene', 'mean_normalized_expression']\n",
    "hpylori_df.to_csv('/mnt/data5/output/explore/hpylori_mean_lognorm_expression.csv', index=False)"
   ]
  },
  {
   "cell_type": "code",
   "execution_count": 9,
   "id": "7e0a330e-3d35-4b98-bf11-1da39e877d67",
   "metadata": {},
   "outputs": [
    {
     "data": {
      "text/plain": [
       "array([[64]])"
      ]
     },
     "execution_count": 9,
     "metadata": {},
     "output_type": "execute_result"
    }
   ],
   "source": [
    "np.argwhere(cdiff.mean().sort_values(ascending=False).index == 'EPCAM')"
   ]
  },
  {
   "cell_type": "code",
   "execution_count": 10,
   "id": "6762e82d-302e-42db-b521-92956da06415",
   "metadata": {},
   "outputs": [
    {
     "data": {
      "text/plain": [
       "array([[231]])"
      ]
     },
     "execution_count": 10,
     "metadata": {},
     "output_type": "execute_result"
    }
   ],
   "source": [
    "np.argwhere(hpylori.mean().sort_values(ascending=False).index == 'EPCAM')"
   ]
  },
  {
   "cell_type": "code",
   "execution_count": 14,
   "id": "03db9686-2dfe-42cf-ad9f-bf42c09c888b",
   "metadata": {},
   "outputs": [
    {
     "data": {
      "text/html": [
       "<div>\n",
       "<style scoped>\n",
       "    .dataframe tbody tr th:only-of-type {\n",
       "        vertical-align: middle;\n",
       "    }\n",
       "\n",
       "    .dataframe tbody tr th {\n",
       "        vertical-align: top;\n",
       "    }\n",
       "\n",
       "    .dataframe thead th {\n",
       "        text-align: right;\n",
       "    }\n",
       "</style>\n",
       "<table border=\"1\" class=\"dataframe\">\n",
       "  <thead>\n",
       "    <tr style=\"text-align: right;\">\n",
       "      <th></th>\n",
       "      <th>gene</th>\n",
       "      <th>mean_normalized_expression</th>\n",
       "    </tr>\n",
       "  </thead>\n",
       "  <tbody>\n",
       "    <tr>\n",
       "      <th>0</th>\n",
       "      <td>IGKC</td>\n",
       "      <td>4.463347</td>\n",
       "    </tr>\n",
       "    <tr>\n",
       "      <th>1</th>\n",
       "      <td>TMSB4X</td>\n",
       "      <td>3.981313</td>\n",
       "    </tr>\n",
       "    <tr>\n",
       "      <th>2</th>\n",
       "      <td>UBC</td>\n",
       "      <td>3.907148</td>\n",
       "    </tr>\n",
       "    <tr>\n",
       "      <th>3</th>\n",
       "      <td>ACTB</td>\n",
       "      <td>3.756215</td>\n",
       "    </tr>\n",
       "    <tr>\n",
       "      <th>4</th>\n",
       "      <td>IGHA1</td>\n",
       "      <td>3.669180</td>\n",
       "    </tr>\n",
       "    <tr>\n",
       "      <th>...</th>\n",
       "      <td>...</td>\n",
       "      <td>...</td>\n",
       "    </tr>\n",
       "    <tr>\n",
       "      <th>17938</th>\n",
       "      <td>PAGE2</td>\n",
       "      <td>0.000000</td>\n",
       "    </tr>\n",
       "    <tr>\n",
       "      <th>17939</th>\n",
       "      <td>OOSP1</td>\n",
       "      <td>0.000000</td>\n",
       "    </tr>\n",
       "    <tr>\n",
       "      <th>17940</th>\n",
       "      <td>BPIFA3</td>\n",
       "      <td>0.000000</td>\n",
       "    </tr>\n",
       "    <tr>\n",
       "      <th>17941</th>\n",
       "      <td>TCP10L2</td>\n",
       "      <td>0.000000</td>\n",
       "    </tr>\n",
       "    <tr>\n",
       "      <th>17942</th>\n",
       "      <td>MUC19</td>\n",
       "      <td>0.000000</td>\n",
       "    </tr>\n",
       "  </tbody>\n",
       "</table>\n",
       "<p>17943 rows × 2 columns</p>\n",
       "</div>"
      ],
      "text/plain": [
       "          gene  mean_normalized_expression\n",
       "0         IGKC                    4.463347\n",
       "1       TMSB4X                    3.981313\n",
       "2          UBC                    3.907148\n",
       "3         ACTB                    3.756215\n",
       "4        IGHA1                    3.669180\n",
       "...        ...                         ...\n",
       "17938    PAGE2                    0.000000\n",
       "17939    OOSP1                    0.000000\n",
       "17940   BPIFA3                    0.000000\n",
       "17941  TCP10L2                    0.000000\n",
       "17942    MUC19                    0.000000\n",
       "\n",
       "[17943 rows x 2 columns]"
      ]
     },
     "execution_count": 14,
     "metadata": {},
     "output_type": "execute_result"
    }
   ],
   "source": [
    "combined_df"
   ]
  },
  {
   "cell_type": "code",
   "execution_count": 15,
   "id": "6cff2ffe-ffae-428f-8894-b0223b4b3343",
   "metadata": {},
   "outputs": [
    {
     "data": {
      "text/html": [
       "<div>\n",
       "<style scoped>\n",
       "    .dataframe tbody tr th:only-of-type {\n",
       "        vertical-align: middle;\n",
       "    }\n",
       "\n",
       "    .dataframe tbody tr th {\n",
       "        vertical-align: top;\n",
       "    }\n",
       "\n",
       "    .dataframe thead th {\n",
       "        text-align: right;\n",
       "    }\n",
       "</style>\n",
       "<table border=\"1\" class=\"dataframe\">\n",
       "  <thead>\n",
       "    <tr style=\"text-align: right;\">\n",
       "      <th></th>\n",
       "      <th>gene</th>\n",
       "      <th>mean_normalized_expression</th>\n",
       "    </tr>\n",
       "  </thead>\n",
       "  <tbody>\n",
       "    <tr>\n",
       "      <th>0</th>\n",
       "      <td>IGKC</td>\n",
       "      <td>4.538194</td>\n",
       "    </tr>\n",
       "    <tr>\n",
       "      <th>1</th>\n",
       "      <td>FTL</td>\n",
       "      <td>4.329302</td>\n",
       "    </tr>\n",
       "    <tr>\n",
       "      <th>2</th>\n",
       "      <td>TMSB4X</td>\n",
       "      <td>4.275754</td>\n",
       "    </tr>\n",
       "    <tr>\n",
       "      <th>3</th>\n",
       "      <td>ACTB</td>\n",
       "      <td>4.192342</td>\n",
       "    </tr>\n",
       "    <tr>\n",
       "      <th>4</th>\n",
       "      <td>UBC</td>\n",
       "      <td>4.187976</td>\n",
       "    </tr>\n",
       "    <tr>\n",
       "      <th>...</th>\n",
       "      <td>...</td>\n",
       "      <td>...</td>\n",
       "    </tr>\n",
       "    <tr>\n",
       "      <th>17938</th>\n",
       "      <td>TCF24</td>\n",
       "      <td>0.000000</td>\n",
       "    </tr>\n",
       "    <tr>\n",
       "      <th>17939</th>\n",
       "      <td>WFDC13</td>\n",
       "      <td>0.000000</td>\n",
       "    </tr>\n",
       "    <tr>\n",
       "      <th>17940</th>\n",
       "      <td>ARSH</td>\n",
       "      <td>0.000000</td>\n",
       "    </tr>\n",
       "    <tr>\n",
       "      <th>17941</th>\n",
       "      <td>MMEL1</td>\n",
       "      <td>0.000000</td>\n",
       "    </tr>\n",
       "    <tr>\n",
       "      <th>17942</th>\n",
       "      <td>LHX8</td>\n",
       "      <td>0.000000</td>\n",
       "    </tr>\n",
       "  </tbody>\n",
       "</table>\n",
       "<p>17943 rows × 2 columns</p>\n",
       "</div>"
      ],
      "text/plain": [
       "         gene  mean_normalized_expression\n",
       "0        IGKC                    4.538194\n",
       "1         FTL                    4.329302\n",
       "2      TMSB4X                    4.275754\n",
       "3        ACTB                    4.192342\n",
       "4         UBC                    4.187976\n",
       "...       ...                         ...\n",
       "17938   TCF24                    0.000000\n",
       "17939  WFDC13                    0.000000\n",
       "17940    ARSH                    0.000000\n",
       "17941   MMEL1                    0.000000\n",
       "17942    LHX8                    0.000000\n",
       "\n",
       "[17943 rows x 2 columns]"
      ]
     },
     "execution_count": 15,
     "metadata": {},
     "output_type": "execute_result"
    }
   ],
   "source": [
    "cdiff_df"
   ]
  },
  {
   "cell_type": "code",
   "execution_count": 16,
   "id": "bbdab1ae-8569-475a-a5a4-42c8f0ba0d2f",
   "metadata": {},
   "outputs": [
    {
     "data": {
      "text/html": [
       "<div>\n",
       "<style scoped>\n",
       "    .dataframe tbody tr th:only-of-type {\n",
       "        vertical-align: middle;\n",
       "    }\n",
       "\n",
       "    .dataframe tbody tr th {\n",
       "        vertical-align: top;\n",
       "    }\n",
       "\n",
       "    .dataframe thead th {\n",
       "        text-align: right;\n",
       "    }\n",
       "</style>\n",
       "<table border=\"1\" class=\"dataframe\">\n",
       "  <thead>\n",
       "    <tr style=\"text-align: right;\">\n",
       "      <th></th>\n",
       "      <th>gene</th>\n",
       "      <th>mean_normalized_expression</th>\n",
       "    </tr>\n",
       "  </thead>\n",
       "  <tbody>\n",
       "    <tr>\n",
       "      <th>0</th>\n",
       "      <td>IGKC</td>\n",
       "      <td>4.356195</td>\n",
       "    </tr>\n",
       "    <tr>\n",
       "      <th>1</th>\n",
       "      <td>TFF1</td>\n",
       "      <td>4.316313</td>\n",
       "    </tr>\n",
       "    <tr>\n",
       "      <th>2</th>\n",
       "      <td>GKN1</td>\n",
       "      <td>4.244122</td>\n",
       "    </tr>\n",
       "    <tr>\n",
       "      <th>3</th>\n",
       "      <td>LYZ</td>\n",
       "      <td>4.048595</td>\n",
       "    </tr>\n",
       "    <tr>\n",
       "      <th>4</th>\n",
       "      <td>IGHA1</td>\n",
       "      <td>3.634394</td>\n",
       "    </tr>\n",
       "    <tr>\n",
       "      <th>...</th>\n",
       "      <td>...</td>\n",
       "      <td>...</td>\n",
       "    </tr>\n",
       "    <tr>\n",
       "      <th>17938</th>\n",
       "      <td>TEX36</td>\n",
       "      <td>0.000000</td>\n",
       "    </tr>\n",
       "    <tr>\n",
       "      <th>17939</th>\n",
       "      <td>KIAA1210</td>\n",
       "      <td>0.000000</td>\n",
       "    </tr>\n",
       "    <tr>\n",
       "      <th>17940</th>\n",
       "      <td>HNRNPCL3</td>\n",
       "      <td>0.000000</td>\n",
       "    </tr>\n",
       "    <tr>\n",
       "      <th>17941</th>\n",
       "      <td>TEX53</td>\n",
       "      <td>0.000000</td>\n",
       "    </tr>\n",
       "    <tr>\n",
       "      <th>17942</th>\n",
       "      <td>TCP10L2</td>\n",
       "      <td>0.000000</td>\n",
       "    </tr>\n",
       "  </tbody>\n",
       "</table>\n",
       "<p>17943 rows × 2 columns</p>\n",
       "</div>"
      ],
      "text/plain": [
       "           gene  mean_normalized_expression\n",
       "0          IGKC                    4.356195\n",
       "1          TFF1                    4.316313\n",
       "2          GKN1                    4.244122\n",
       "3           LYZ                    4.048595\n",
       "4         IGHA1                    3.634394\n",
       "...         ...                         ...\n",
       "17938     TEX36                    0.000000\n",
       "17939  KIAA1210                    0.000000\n",
       "17940  HNRNPCL3                    0.000000\n",
       "17941     TEX53                    0.000000\n",
       "17942   TCP10L2                    0.000000\n",
       "\n",
       "[17943 rows x 2 columns]"
      ]
     },
     "execution_count": 16,
     "metadata": {},
     "output_type": "execute_result"
    }
   ],
   "source": [
    "hpylori_df"
   ]
  },
  {
   "cell_type": "code",
   "execution_count": null,
   "id": "8e0d06c5-6a9b-40cd-badb-0bb067acc591",
   "metadata": {},
   "outputs": [],
   "source": []
  }
 ],
 "metadata": {
  "kernelspec": {
   "display_name": "Python 3 (ipykernel)",
   "language": "python",
   "name": "python3"
  },
  "language_info": {
   "codemirror_mode": {
    "name": "ipython",
    "version": 3
   },
   "file_extension": ".py",
   "mimetype": "text/x-python",
   "name": "python",
   "nbconvert_exporter": "python",
   "pygments_lexer": "ipython3",
   "version": "3.8.13"
  }
 },
 "nbformat": 4,
 "nbformat_minor": 5
}
