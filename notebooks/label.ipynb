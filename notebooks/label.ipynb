{
 "cells": [
  {
   "cell_type": "code",
   "execution_count": 1,
   "id": "77fa7f89-4109-4c37-bc21-e427808b523a",
   "metadata": {},
   "outputs": [],
   "source": [
    "import os\n",
    "from steml.recipes import label"
   ]
  },
  {
   "cell_type": "code",
   "execution_count": 2,
   "id": "9a9d7904-a042-4536-9017-c571cbdc1b86",
   "metadata": {},
   "outputs": [],
   "source": [
    "workdir = '/mnt/data5'"
   ]
  },
  {
   "cell_type": "code",
   "execution_count": 6,
   "id": "ea9a509c-4240-4c78-b0d5-0c432bc8b9ee",
   "metadata": {},
   "outputs": [],
   "source": [
    "# conditions = [\n",
    "#     [\n",
    "#         # gene   lte    threshold\n",
    "#         ('CD3D', False, 0),\n",
    "#         ('CD3E', False, 0),\n",
    "#         ('CD3G', False, 0),\n",
    "#     ],\n",
    "#     [\n",
    "#         ('CD19', False, 0),\n",
    "#     ]\n",
    "# ]\n",
    "\n",
    "# conditions = [\n",
    "#     [\n",
    "#         ('CD3E', False, 0),\n",
    "#     ],\n",
    "#     [\n",
    "#         ('EPCAM', False, 0),\n",
    "#     ],\n",
    "# ]\n",
    "\n",
    "# name='CD3E'\n",
    "\n",
    "conditions = [[('CDX2', False, 0)]]\n",
    "name = 'CDX2'"
   ]
  },
  {
   "cell_type": "code",
   "execution_count": 7,
   "id": "0d28520c-9655-45c5-b44b-b3515bfef011",
   "metadata": {},
   "outputs": [
    {
     "name": "stdout",
     "output_type": "stream",
     "text": [
      "(CDX2>0)\n"
     ]
    }
   ],
   "source": [
    "output = f'{workdir}/output/tiles/gi-cancer'\n",
    "\n",
    "label(\n",
    "    feature_barcode_matrix=f'{workdir}/output/count/gi-cancer/outs/filtered_feature_bc_matrix',\n",
    "    conditions=conditions,\n",
    "    name=name,\n",
    "    output=output,\n",
    ")"
   ]
  },
  {
   "cell_type": "code",
   "execution_count": 8,
   "id": "6a482740-04dd-4212-b3c2-b39d783bde71",
   "metadata": {},
   "outputs": [
    {
     "name": "stdout",
     "output_type": "stream",
     "text": [
      "(CDX2>0)\n",
      "(CDX2>0)\n",
      "(CDX2>0)\n",
      "(CDX2>0)\n",
      "(CDX2>0)\n",
      "(CDX2>0)\n",
      "(CDX2>0)\n",
      "(CDX2>0)\n"
     ]
    }
   ],
   "source": [
    "for slide in ['slide1', 'slide2']:\n",
    "    for section in ['A1', 'B1', 'C1', 'D1']:\n",
    "        output = f'{workdir}/output/tiles/gi-infection/{slide}/{section}'\n",
    "        label(\n",
    "            feature_barcode_matrix=f'{workdir}/output/count/gi-infection/{slide}/{section}/outs/filtered_feature_bc_matrix',\n",
    "            conditions=conditions,\n",
    "            name=name,\n",
    "            output=output,\n",
    "        )"
   ]
  },
  {
   "cell_type": "code",
   "execution_count": null,
   "id": "99eba1c0-5ae8-4233-ac2e-8903806d7370",
   "metadata": {},
   "outputs": [],
   "source": []
  }
 ],
 "metadata": {
  "kernelspec": {
   "display_name": "Python 3 (ipykernel)",
   "language": "python",
   "name": "python3"
  },
  "language_info": {
   "codemirror_mode": {
    "name": "ipython",
    "version": 3
   },
   "file_extension": ".py",
   "mimetype": "text/x-python",
   "name": "python",
   "nbconvert_exporter": "python",
   "pygments_lexer": "ipython3",
   "version": "3.8.13"
  }
 },
 "nbformat": 4,
 "nbformat_minor": 5
}
