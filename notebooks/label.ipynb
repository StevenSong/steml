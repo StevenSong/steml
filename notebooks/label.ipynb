{
 "cells": [
  {
   "cell_type": "code",
   "execution_count": null,
   "id": "77fa7f89-4109-4c37-bc21-e427808b523a",
   "metadata": {},
   "outputs": [],
   "source": [
    "import os\n",
    "from steml.recipes import label"
   ]
  },
  {
   "cell_type": "code",
   "execution_count": null,
   "id": "9a9d7904-a042-4536-9017-c571cbdc1b86",
   "metadata": {},
   "outputs": [],
   "source": [
    "workdir = '/mnt/data5'"
   ]
  },
  {
   "cell_type": "code",
   "execution_count": null,
   "id": "ea9a509c-4240-4c78-b0d5-0c432bc8b9ee",
   "metadata": {},
   "outputs": [],
   "source": [
    "conditions = [\n",
    "    [\n",
    "        # gene\n",
    "        ('CD3D', False, 0),\n",
    "        ('CD3E', False, 0),\n",
    "        ('CD3G', False, 0),\n",
    "    ],\n",
    "    [\n",
    "        ('CD19', False, 0),\n",
    "    ]\n",
    "]\n",
    "name='lymphocyte'"
   ]
  },
  {
   "cell_type": "code",
   "execution_count": null,
   "id": "0d28520c-9655-45c5-b44b-b3515bfef011",
   "metadata": {},
   "outputs": [],
   "source": [
    "output = f'{workdir}/output/tiles/gi-cancer'\n",
    "\n",
    "label(\n",
    "    feature_barcode_matrix=f'{workdir}/output/count/gi-cancer/outs/filtered_feature_bc_matrix',\n",
    "    conditions=conditions,\n",
    "    name='lymphocyte',\n",
    "    output=output,\n",
    ")"
   ]
  },
  {
   "cell_type": "code",
   "execution_count": null,
   "id": "6a482740-04dd-4212-b3c2-b39d783bde71",
   "metadata": {},
   "outputs": [],
   "source": [
    "for slide in ['slide1', 'slide2']:\n",
    "    for area in ['A1', 'B1', 'C1', 'D1']:\n",
    "        output = f'{workdir}/output/tiles/gi-infection/{slide}/{area}'\n",
    "        label(\n",
    "            feature_barcode_matrix=f'{workdir}/output/count/gi-infection/{slide}/{area}/outs/filtered_feature_bc_matrix',\n",
    "            conditions=conditions,\n",
    "            name='lymphocyte',\n",
    "            output=output,\n",
    "        )"
   ]
  }
 ],
 "metadata": {
  "kernelspec": {
   "display_name": "Python 3 (ipykernel)",
   "language": "python",
   "name": "python3"
  },
  "language_info": {
   "codemirror_mode": {
    "name": "ipython",
    "version": 3
   },
   "file_extension": ".py",
   "mimetype": "text/x-python",
   "name": "python",
   "nbconvert_exporter": "python",
   "pygments_lexer": "ipython3",
   "version": "3.8.13"
  }
 },
 "nbformat": 4,
 "nbformat_minor": 5
}
